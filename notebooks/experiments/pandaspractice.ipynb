{
 "cells": [
  {
   "cell_type": "code",
   "execution_count": 1,
   "id": "32362111",
   "metadata": {},
   "outputs": [],
   "source": [
    "import pandas as pd\n",
    "import numpy as np"
   ]
  },
  {
   "cell_type": "markdown",
   "id": "00f12f2a",
   "metadata": {},
   "source": [
    "## Creating Series\n",
    "This is done by calling `pd.Series(data, index)`\n",
    "\n",
    "* `data` can be:\n",
    "    - dict\n",
    "    - ndarray\n",
    "    - scalar value\n",
    "\n",
    "* If `data` is an ndarray, index (if passed) must be the same length as data.\n",
    "* If `data` is a dict and an index is passed, the values in `data` corresponding to the labels in the index will be pulled out. "
   ]
  },
  {
   "cell_type": "code",
   "execution_count": 9,
   "id": "3f03012c",
   "metadata": {},
   "outputs": [
    {
     "data": {
      "text/plain": [
       "a    1\n",
       "b    2\n",
       "dtype: int64"
      ]
     },
     "execution_count": 9,
     "metadata": {},
     "output_type": "execute_result"
    }
   ],
   "source": [
    "# creating a series from a dict\n",
    "a = {'a': 1, 'b': 2, 'c': 3}\n",
    "a_series = pd.Series(a)\n",
    "a_series # keys become indexes\n",
    "pd.Series(a, index=list('ab'))"
   ]
  },
  {
   "cell_type": "code",
   "execution_count": 11,
   "id": "6e2cd7ec",
   "metadata": {},
   "outputs": [
    {
     "data": {
      "text/plain": [
       "0    1\n",
       "1    2\n",
       "2    5\n",
       "3    4\n",
       "dtype: int32"
      ]
     },
     "execution_count": 11,
     "metadata": {},
     "output_type": "execute_result"
    }
   ],
   "source": [
    "# creating a series from an nd array\n",
    "b = np.array([1, 2, 5, 4])\n",
    "b_series = pd.Series(b) # default indexing is used\n",
    "b_series"
   ]
  },
  {
   "cell_type": "code",
   "execution_count": null,
   "id": "aa426538",
   "metadata": {},
   "outputs": [
    {
     "data": {
      "text/plain": [
       "a    6\n",
       "b    6\n",
       "c    6\n",
       "d    6\n",
       "e    6\n",
       "dtype: int64"
      ]
     },
     "execution_count": 8,
     "metadata": {},
     "output_type": "execute_result"
    }
   ],
   "source": [
    "# creating a series from a scalar\n",
    "c = 6\n",
    "pd.Series(c) # no index -> only one row\n",
    "pd.Series(c, index=list('abcde')) # specified indices -> multiple rows with the same value"
   ]
  },
  {
   "cell_type": "code",
   "execution_count": 13,
   "id": "a68269c9",
   "metadata": {},
   "outputs": [
    {
     "data": {
      "text/plain": [
       "1"
      ]
     },
     "execution_count": 13,
     "metadata": {},
     "output_type": "execute_result"
    }
   ],
   "source": [
    "a_series[\"a\"]"
   ]
  },
  {
   "cell_type": "code",
   "execution_count": 16,
   "id": "00deeab7",
   "metadata": {},
   "outputs": [
    {
     "data": {
      "text/plain": [
       "nan"
      ]
     },
     "execution_count": 16,
     "metadata": {},
     "output_type": "execute_result"
    }
   ],
   "source": [
    "a_series.get(\"d\", np.nan)"
   ]
  },
  {
   "cell_type": "code",
   "execution_count": 17,
   "id": "47d14926",
   "metadata": {},
   "outputs": [
    {
     "data": {
      "text/plain": [
       "a    NaN\n",
       "b    4.0\n",
       "c    NaN\n",
       "dtype: float64"
      ]
     },
     "execution_count": 17,
     "metadata": {},
     "output_type": "execute_result"
    }
   ],
   "source": [
    "a_series.iloc[1:] + a_series.iloc[:-1]"
   ]
  },
  {
   "cell_type": "code",
   "execution_count": null,
   "id": "51a562eb",
   "metadata": {},
   "outputs": [],
   "source": []
  }
 ],
 "metadata": {
  "kernelspec": {
   "display_name": "Python 3 (ipykernel)",
   "language": "python",
   "name": "python3"
  },
  "language_info": {
   "codemirror_mode": {
    "name": "ipython",
    "version": 3
   },
   "file_extension": ".py",
   "mimetype": "text/x-python",
   "name": "python",
   "nbconvert_exporter": "python",
   "pygments_lexer": "ipython3",
   "version": "3.12.2"
  }
 },
 "nbformat": 4,
 "nbformat_minor": 5
}
