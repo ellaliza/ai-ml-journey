{
 "cells": [
  {
   "cell_type": "markdown",
   "id": "f4323ef5",
   "metadata": {},
   "source": [
    "# Choosing the right chart\n",
    "There are many chart types available, each suited for different purposes. \n",
    "\n",
    "- Bar Charts: Effective for comparing categories (e.g., comparing sales figures across regions).\n",
    "- Line Charts: Ideal for showing trends over time (e.g., tracking website traffic over months).\n",
    "- Pie Charts: Useful for depicting proportions of a whole (e.g., customer satisfaction survey results).\n",
    "- Scatter Plots: Used to reveal relationships between two variables (e.g., correlation between advertising spend and customer acquisition).\n",
    "- Histograms: Used to represent the distribution of a continuous variable. Helpful in understanding the frequency or density distribution of data.\n",
    "- Box Plots (Box-and-Whisker Plots): Box plots are useful for summarizing the distribution of a dataset and identifying outliers.\n",
    "- Area Charts: Area charts are similar to line charts but with the area below the lines filled with color. They are effective for showing changes in quantities over time while also emphasizing the magnitude of those changes."
   ]
  },
  {
   "cell_type": "markdown",
   "id": "841aabc8",
   "metadata": {},
   "source": []
  }
 ],
 "metadata": {
  "language_info": {
   "name": "python"
  }
 },
 "nbformat": 4,
 "nbformat_minor": 5
}
